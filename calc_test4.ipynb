{
 "cells": [
  {
   "cell_type": "markdown",
   "metadata": {},
   "source": [
    "# Import Stuff"
   ]
  },
  {
   "cell_type": "code",
   "execution_count": 41,
   "metadata": {},
   "outputs": [],
   "source": [
    "# conda install pytorch torchvision torchaudio pytorch-cuda=11.8 -c pytorch -c nvidia\n",
    "# conda install onnx onnxruntime\n",
    "# pip install torch torchvision numpy opencv-python seaborn matplotlib scikit-learn pillow onnxscript\n",
    "\n",
    "# pip3 install torch torchvision torchaudio --index-url https://download.pytorch.org/whl/cu118\n",
    "# pip3 install onnx onnxruntime onnxscript ipykernel quanto tqdm\n",
    "# sudo apt-get install g++ ???????"
   ]
  },
  {
   "cell_type": "code",
   "execution_count": 42,
   "metadata": {},
   "outputs": [],
   "source": [
    "import os\n",
    "import time\n",
    "import torch \n",
    "import torch.nn as nn\n",
    "import torch.nn.functional as F\n",
    "import numpy as np\n",
    "import cv2\n",
    "import seaborn as sns\n",
    "import matplotlib.pyplot as plt\n",
    "import onnx\n",
    "import onnxruntime\n",
    "import quanto\n",
    "\n",
    "from sklearn.metrics.pairwise import cosine_similarity\n",
    "from PIL import Image\n",
    "from torchvision import transforms\n",
    "from matplotlib import pyplot as plt\n",
    "\n",
    "from matching import matching\n",
    "from evaluation.metrics import createPR, recallAt100precision, recallAtK\n",
    "from datasets.load_dataset import GardensPointDataset, SFUDataset, StLuciaDataset"
   ]
  },
  {
   "cell_type": "markdown",
   "metadata": {},
   "source": [
    "# Constants"
   ]
  },
  {
   "cell_type": "code",
   "execution_count": 43,
   "metadata": {},
   "outputs": [],
   "source": [
    "WEIGHTS_FILE = \"calc.caffemodel.pt\"\n",
    "ITERATIONS = 100 # for testing average duration"
   ]
  },
  {
   "cell_type": "markdown",
   "metadata": {},
   "source": [
    "# Load Datasets"
   ]
  },
  {
   "cell_type": "code",
   "execution_count": 44,
   "metadata": {},
   "outputs": [
    {
     "name": "stdout",
     "output_type": "stream",
     "text": [
      "===== Load dataset SFU dry--jan\n"
     ]
    }
   ],
   "source": [
    "imgs_db, imgs_q, GThard, GTsoft = SFUDataset().load()\n",
    "# imgs_db, imgs_q, GThard, GTsoft = GardensPointDataset().load()\n",
    "# imgs_db, imgs_q, GThard, GTsoft = StLuciaDataset().load()"
   ]
  },
  {
   "cell_type": "markdown",
   "metadata": {},
   "source": [
    "# Preprocess Images"
   ]
  },
  {
   "cell_type": "code",
   "execution_count": 45,
   "metadata": {},
   "outputs": [],
   "source": [
    "class ConvertToYUVandEqualizeHist:\n",
    "    def __call__(self, img):\n",
    "        img_yuv = cv2.cvtColor(np.array(img), cv2.COLOR_RGB2YUV)\n",
    "        img_yuv[:, :, 0] = cv2.equalizeHist(img_yuv[:, :, 0])\n",
    "        img_rgb = cv2.cvtColor(img_yuv, cv2.COLOR_YUV2RGB)\n",
    "        return Image.fromarray(img_rgb)\n",
    "\n",
    "preprocess = transforms.Compose(\n",
    "    [\n",
    "        ConvertToYUVandEqualizeHist(),\n",
    "        transforms.Grayscale(num_output_channels=1),\n",
    "        transforms.Resize((120, 160), interpolation=Image.BICUBIC),\n",
    "        transforms.ToTensor(),\n",
    "    ]\n",
    ")"
   ]
  },
  {
   "cell_type": "code",
   "execution_count": 46,
   "metadata": {},
   "outputs": [
    {
     "name": "stdout",
     "output_type": "stream",
     "text": [
      "torch.Size([385, 1, 120, 160])\n"
     ]
    }
   ],
   "source": [
    "# Preprocess db images\n",
    "\n",
    "db_tensor = []\n",
    "\n",
    "for image in imgs_db:\n",
    "    preprocessed_image = preprocess(image)\n",
    "    db_tensor.append(preprocessed_image)\n",
    "\n",
    "db_tensor = torch.stack(db_tensor, axis=0)\n",
    "\n",
    "# Convert numpy array to a tensor\n",
    "# query_tensor = torch.from_numpy(query_matrix)\n",
    "\n",
    "print(db_tensor.shape)\n",
    "# print(query_tensor)"
   ]
  },
  {
   "cell_type": "code",
   "execution_count": 47,
   "metadata": {},
   "outputs": [
    {
     "name": "stdout",
     "output_type": "stream",
     "text": [
      "torch.Size([385, 1, 120, 160])\n"
     ]
    }
   ],
   "source": [
    "# Preprocess query images\n",
    "\n",
    "q_tensor = []\n",
    "\n",
    "for image in imgs_q:\n",
    "    preprocessed_image = preprocess(image)\n",
    "    q_tensor.append(preprocessed_image)\n",
    "\n",
    "q_tensor = torch.stack(q_tensor, axis=0)\n",
    "\n",
    "# Convert numpy array to a tensor\n",
    "# query_tensor = torch.from_numpy(map_matrix)\n",
    "\n",
    "print(q_tensor.shape)\n",
    "# print(map_tensor)"
   ]
  },
  {
   "cell_type": "markdown",
   "metadata": {},
   "source": [
    "# Model Definition"
   ]
  },
  {
   "cell_type": "code",
   "execution_count": 48,
   "metadata": {},
   "outputs": [],
   "source": [
    "class CalcModel(nn.Module):\n",
    "    def __init__(self):\n",
    "        super().__init__()\n",
    "\n",
    "        self.input_dim = (1, 120, 160)\n",
    "        self.conv1 = nn.Conv2d(1, 64, kernel_size=(5, 5), stride=2, padding=4)\n",
    "        self.relu1 = nn.ReLU(inplace=False)\n",
    "        self.conv2 = nn.Conv2d(64, 128, kernel_size=(4, 4), stride=1, padding=2)\n",
    "        self.relu2 = nn.ReLU(inplace=False)\n",
    "        self.conv3 = nn.Conv2d(128, 4, kernel_size=(3, 3), stride=1, padding=0)\n",
    "        self.relu3 = nn.ReLU(inplace=False)\n",
    "        self.pool = nn.MaxPool2d(kernel_size=(3, 3), stride=2)\n",
    "        self.lrn1 = nn.LocalResponseNorm(5, alpha=0.0001, beta=0.75)\n",
    "        self.lrn2 = nn.LocalResponseNorm(5, alpha=0.0001, beta=0.75)\n",
    "\n",
    "\n",
    "    def forward(self, x):\n",
    "        x = self.relu1(self.conv1(x))\n",
    "        x = self.pool(x)\n",
    "        x = self.lrn1(x)\n",
    "\n",
    "        x = self.relu2(self.conv2(x))\n",
    "        x = self.pool(x)\n",
    "        x = self.lrn2(x)\n",
    "\n",
    "        x = self.relu3(self.conv3(x))\n",
    "        x = torch.flatten(x, 1)\n",
    "        return x"
   ]
  },
  {
   "cell_type": "markdown",
   "metadata": {},
   "source": [
    "### Normal Model"
   ]
  },
  {
   "cell_type": "code",
   "execution_count": 49,
   "metadata": {},
   "outputs": [
    {
     "name": "stdout",
     "output_type": "stream",
     "text": [
      "CalcModel(\n",
      "  (conv1): Conv2d(1, 64, kernel_size=(5, 5), stride=(2, 2), padding=(4, 4))\n",
      "  (relu1): ReLU()\n",
      "  (conv2): Conv2d(64, 128, kernel_size=(4, 4), stride=(1, 1), padding=(2, 2))\n",
      "  (relu2): ReLU()\n",
      "  (conv3): Conv2d(128, 4, kernel_size=(3, 3), stride=(1, 1))\n",
      "  (relu3): ReLU()\n",
      "  (pool): MaxPool2d(kernel_size=(3, 3), stride=2, padding=0, dilation=1, ceil_mode=False)\n",
      "  (lrn1): LocalResponseNorm(5, alpha=0.0001, beta=0.75, k=1.0)\n",
      "  (lrn2): LocalResponseNorm(5, alpha=0.0001, beta=0.75, k=1.0)\n",
      ")\n"
     ]
    }
   ],
   "source": [
    "calc = CalcModel()\n",
    "\n",
    "# Load the model weights\n",
    "state_dict = torch.load(WEIGHTS_FILE)\n",
    "my_new_state_dict = {}\n",
    "my_layers = list(calc.state_dict().keys())\n",
    "for layer in my_layers:\n",
    "    my_new_state_dict[layer] = state_dict[layer]\n",
    "calc.load_state_dict(my_new_state_dict)\n",
    "\n",
    "print(calc)"
   ]
  },
  {
   "cell_type": "markdown",
   "metadata": {},
   "source": [
    "### ONNX Model"
   ]
  },
  {
   "cell_type": "code",
   "execution_count": 50,
   "metadata": {},
   "outputs": [
    {
     "name": "stderr",
     "output_type": "stream",
     "text": [
      "/home/irfan/.conda/envs/bruh/lib/python3.11/site-packages/torch/onnx/_internal/jit_utils.py:307: UserWarning: Constant folding - Only steps=1 can be constant folded for opset >= 10 onnx::Slice op. Constant folding not applied. (Triggered internally at ../torch/csrc/jit/passes/onnx/constant_fold.cpp:179.)\n",
      "  _C._jit_pass_onnx_node_shape_type_inference(node, params_dict, opset_version)\n",
      "/home/irfan/.conda/envs/bruh/lib/python3.11/site-packages/torch/onnx/utils.py:702: UserWarning: Constant folding - Only steps=1 can be constant folded for opset >= 10 onnx::Slice op. Constant folding not applied. (Triggered internally at ../torch/csrc/jit/passes/onnx/constant_fold.cpp:179.)\n",
      "  _C._jit_pass_onnx_graph_shape_type_inference(\n",
      "/home/irfan/.conda/envs/bruh/lib/python3.11/site-packages/torch/onnx/utils.py:1208: UserWarning: Constant folding - Only steps=1 can be constant folded for opset >= 10 onnx::Slice op. Constant folding not applied. (Triggered internally at ../torch/csrc/jit/passes/onnx/constant_fold.cpp:179.)\n",
      "  _C._jit_pass_onnx_graph_shape_type_inference(\n"
     ]
    }
   ],
   "source": [
    "example_input = torch.randn(1, 1, 120, 160)\n",
    "\n",
    "dynamic_axes = {\"input\": {0: \"batch_size\"}, \"output\": {0: \"batch_size\"}}\n",
    "\n",
    "# Export the model\n",
    "torch.onnx.export(\n",
    "    calc,  # model\n",
    "    example_input,  # example input\n",
    "    \"calc_model.onnx\",  # output file name\n",
    "    input_names=[\"input\"],  # input names\n",
    "    output_names=[\"output\"],  # output names\n",
    "    dynamic_axes=dynamic_axes,  # dynamic axes\n",
    ")\n",
    "\n",
    "# Load the ONNX model\n",
    "ort_session = onnxruntime.InferenceSession(\"calc_model.onnx\")"
   ]
  },
  {
   "cell_type": "markdown",
   "metadata": {},
   "source": [
    "### Dynamic Quantized Model (ONNX)"
   ]
  },
  {
   "cell_type": "code",
   "execution_count": 51,
   "metadata": {},
   "outputs": [
    {
     "name": "stderr",
     "output_type": "stream",
     "text": [
      "WARNING:root:Please consider to run pre-processing before quantization. Refer to example: https://github.com/microsoft/onnxruntime-inference-examples/blob/main/quantization/image_classification/cpu/ReadMe.md \n",
      "WARNING:root:Inference failed or unsupported type to quantize for tensor '/lrn1/Slice_output_0', type is tensor_type {\n",
      "  elem_type: 7\n",
      "  shape {\n",
      "    dim {\n",
      "      dim_value: 5\n",
      "    }\n",
      "    dim {\n",
      "      dim_value: 2\n",
      "    }\n",
      "  }\n",
      "}\n",
      ".\n",
      "WARNING:root:Inference failed or unsupported type to quantize for tensor '/lrn2/Slice_output_0', type is tensor_type {\n",
      "  elem_type: 7\n",
      "  shape {\n",
      "    dim {\n",
      "      dim_value: 5\n",
      "    }\n",
      "    dim {\n",
      "      dim_value: 2\n",
      "    }\n",
      "  }\n",
      "}\n",
      ".\n"
     ]
    }
   ],
   "source": [
    "import onnx\n",
    "from onnxruntime.quantization import quantize_dynamic, QuantType\n",
    "\n",
    "\n",
    "model_fp32 = 'calc_model.onnx'\n",
    "model_quant = 'calc_model_quant_dynamic.onnx'\n",
    "quantized_model = quantize_dynamic(model_fp32, model_quant, weight_type=QuantType.QUInt8)\n",
    "\n",
    "# Load the dynamic quantized model\n",
    "ort_session_quant_dynamic = onnxruntime.InferenceSession(\"calc_model_quant_dynamic.onnx\")"
   ]
  },
  {
   "cell_type": "markdown",
   "metadata": {},
   "source": [
    "### Static Quantized Model (ONNX)"
   ]
  },
  {
   "cell_type": "code",
   "execution_count": 52,
   "metadata": {},
   "outputs": [],
   "source": [
    "# from onnxruntime.tools.symbolic_shape_infer import SymbolicShapeInference\n",
    "\n",
    "from onnxruntime.quantization.shape_inference import quant_pre_process\n",
    "\n",
    "quant_pre_process('calc_model.onnx', 'calc_model_quant_static_prep.onnx')"
   ]
  },
  {
   "cell_type": "code",
   "execution_count": 53,
   "metadata": {},
   "outputs": [
    {
     "name": "stdout",
     "output_type": "stream",
     "text": [
      "torch.Size([100, 1, 120, 160])\n",
      "torch.Size([285, 1, 120, 160])\n"
     ]
    }
   ],
   "source": [
    "calib_ds = db_tensor[:100] # first 100 for calibration - reserve for quantization\n",
    "val_ds = db_tensor[100:] # last 100 for validation\n",
    "\n",
    "print(calib_ds.shape)\n",
    "print(val_ds.shape)"
   ]
  },
  {
   "cell_type": "code",
   "execution_count": 54,
   "metadata": {},
   "outputs": [],
   "source": [
    "from onnxruntime.quantization.calibrate import CalibrationDataReader\n",
    "\n",
    "class QuantizationDataReader(CalibrationDataReader):\n",
    "    def __init__(self, torch_ds, batch_size, input_name):\n",
    "        self.torch_dl = torch.utils.data.DataLoader(torch_ds, batch_size=batch_size, shuffle=False)\n",
    "        self.input_name = input_name\n",
    "        self.datasize = len(self.torch_dl)\n",
    "        self.enum_data = iter(self.torch_dl)\n",
    "\n",
    "    def to_numpy(self, pt_tensor):\n",
    "        return pt_tensor.detach().cpu().numpy() if pt_tensor.requires_grad else pt_tensor.cpu().numpy()\n",
    "\n",
    "    def get_next(self):\n",
    "        batch = next(self.enum_data, None)\n",
    "        if batch is not None:\n",
    "\n",
    "            data = self.to_numpy(batch[0])\n",
    "            data = np.expand_dims(data, axis=0)  # Add a new dimension to the data\n",
    "            \n",
    "            return {self.input_name: data}\n",
    "        else:\n",
    "            return None\n",
    "\n",
    "    def rewind(self):\n",
    "        self.enum_data = iter(self.torch_dl)\n",
    "\n",
    "qdr = QuantizationDataReader(calib_ds, batch_size=64, input_name=ort_session.get_inputs()[0].name)"
   ]
  },
  {
   "cell_type": "code",
   "execution_count": 55,
   "metadata": {},
   "outputs": [
    {
     "name": "stderr",
     "output_type": "stream",
     "text": [
      "WARNING:root:failed to infer the type of tensor: . Skip to quantize it. Please check if it is expected.\n",
      "WARNING:root:failed to infer the type of tensor: . Skip to quantize it. Please check if it is expected.\n"
     ]
    }
   ],
   "source": [
    "from onnxruntime.quantization import quantize_static\n",
    "\n",
    "q_static_opts = {\"ActivationSymmetric\":False,\n",
    "                 \"WeightSymmetric\":True}\n",
    "# if torch.cuda.is_available():\n",
    "#     q_static_opts = {\"ActivationSymmetric\":True,\n",
    "#                   \"WeightSymmetric\":True}\n",
    "\n",
    "# q_static_opts = {\"ActivationSymmetric\":False, \"WeightSymmetric\":False}\n",
    "\n",
    "# check layer quantization support\n",
    "\n",
    "quantized_model = quantize_static(model_input='calc_model_quant_static_prep.onnx',\n",
    "                                               model_output='calc_model_quant_static.onnx',\n",
    "                                               calibration_data_reader=qdr,\n",
    "                                               extra_options=q_static_opts)\n",
    "\n",
    "# Load the static quantized model\n",
    "ort_session_quant_static = onnxruntime.InferenceSession('calc_model_quant_static.onnx')"
   ]
  },
  {
   "cell_type": "markdown",
   "metadata": {},
   "source": [
    "### Quantization (Quanto)"
   ]
  },
  {
   "cell_type": "code",
   "execution_count": 56,
   "metadata": {},
   "outputs": [
    {
     "name": "stdout",
     "output_type": "stream",
     "text": [
      "CalcModel(\n",
      "  (conv1): Conv2d(1, 64, kernel_size=(5, 5), stride=(2, 2), padding=(4, 4))\n",
      "  (relu1): ReLU()\n",
      "  (conv2): Conv2d(64, 128, kernel_size=(4, 4), stride=(1, 1), padding=(2, 2))\n",
      "  (relu2): ReLU()\n",
      "  (conv3): Conv2d(128, 4, kernel_size=(3, 3), stride=(1, 1))\n",
      "  (relu3): ReLU()\n",
      "  (pool): MaxPool2d(kernel_size=(3, 3), stride=2, padding=0, dilation=1, ceil_mode=False)\n",
      "  (lrn1): LocalResponseNorm(5, alpha=0.0001, beta=0.75, k=1.0)\n",
      "  (lrn2): LocalResponseNorm(5, alpha=0.0001, beta=0.75, k=1.0)\n",
      ")\n",
      "CalcModel(\n",
      "  (conv1): QConv2d(1, 64, kernel_size=(5, 5), stride=(2, 2), padding=(4, 4))\n",
      "  (relu1): ReLU()\n",
      "  (conv2): QConv2d(64, 128, kernel_size=(4, 4), stride=(1, 1), padding=(2, 2))\n",
      "  (relu2): ReLU()\n",
      "  (conv3): QConv2d(128, 4, kernel_size=(3, 3), stride=(1, 1))\n",
      "  (relu3): ReLU()\n",
      "  (pool): MaxPool2d(kernel_size=(3, 3), stride=2, padding=0, dilation=1, ceil_mode=False)\n",
      "  (lrn1): LocalResponseNorm(5, alpha=0.0001, beta=0.75, k=1.0)\n",
      "  (lrn2): LocalResponseNorm(5, alpha=0.0001, beta=0.75, k=1.0)\n",
      ")\n"
     ]
    }
   ],
   "source": [
    "calc_quanto = CalcModel()\n",
    "\n",
    "# Load the model weights\n",
    "state_dict = torch.load(WEIGHTS_FILE)\n",
    "my_new_state_dict = {}\n",
    "my_layers = list(calc.state_dict().keys())\n",
    "for layer in my_layers:\n",
    "    my_new_state_dict[layer] = state_dict[layer]\n",
    "calc_quanto.load_state_dict(my_new_state_dict)\n",
    "\n",
    "print(calc_quanto)\n",
    "\n",
    "quanto.quantize(calc_quanto, weights=quanto.qint8, activations=quanto.qint8) # quantization is in place\n",
    "print(calc_quanto)"
   ]
  },
  {
   "cell_type": "markdown",
   "metadata": {},
   "source": [
    "### Torch Compile"
   ]
  },
  {
   "cell_type": "code",
   "execution_count": 57,
   "metadata": {},
   "outputs": [],
   "source": [
    "# calc_compile = CalcModel()\n",
    "\n",
    "# # Load the model weights\n",
    "# state_dict = torch.load(WEIGHTS_FILE)\n",
    "# my_new_state_dict = {}\n",
    "# my_layers = list(calc.state_dict().keys())\n",
    "# for layer in my_layers:\n",
    "#     my_new_state_dict[layer] = state_dict[layer]\n",
    "# calc_compile.load_state_dict(my_new_state_dict)\n",
    "\n",
    "# print(calc_compile)\n",
    "\n",
    "# calc_torchscript = torch.jit.script(calc_compile)\n",
    "# print(calc_torchscript)"
   ]
  },
  {
   "cell_type": "code",
   "execution_count": 58,
   "metadata": {},
   "outputs": [],
   "source": [
    "calc_compile = CalcModel()\n",
    "\n",
    "# Load the model weights\n",
    "state_dict = torch.load(WEIGHTS_FILE)\n",
    "my_new_state_dict = {}\n",
    "my_layers = list(calc.state_dict().keys())\n",
    "for layer in my_layers:\n",
    "    my_new_state_dict[layer] = state_dict[layer]\n",
    "calc_compile.load_state_dict(my_new_state_dict)\n",
    "\n",
    "import torch._dynamo\n",
    "torch._dynamo.reset()\n",
    "\n",
    "calc_compile = torch.compile(calc_compile, mode=\"reduce-overhead\")"
   ]
  },
  {
   "cell_type": "markdown",
   "metadata": {},
   "source": [
    "### CUDA Model"
   ]
  },
  {
   "cell_type": "code",
   "execution_count": 59,
   "metadata": {},
   "outputs": [
    {
     "data": {
      "text/plain": [
       "<All keys matched successfully>"
      ]
     },
     "execution_count": 59,
     "metadata": {},
     "output_type": "execute_result"
    }
   ],
   "source": [
    "torch.cuda.is_available()\n",
    "\n",
    "# Instantiate the Model\n",
    "calc_cuda = CalcModel().half().cuda()\n",
    "\n",
    "# Load the model weights\n",
    "state_dict = torch.load(WEIGHTS_FILE)\n",
    "my_new_state_dict = {}\n",
    "my_layers = list(calc_cuda.state_dict().keys())\n",
    "for layer in my_layers:\n",
    "    my_new_state_dict[layer] = state_dict[layer]\n",
    "calc_cuda.load_state_dict(my_new_state_dict)"
   ]
  },
  {
   "cell_type": "markdown",
   "metadata": {},
   "source": [
    "# Run Models"
   ]
  },
  {
   "cell_type": "markdown",
   "metadata": {},
   "source": [
    "### Normal Model"
   ]
  },
  {
   "cell_type": "code",
   "execution_count": 60,
   "metadata": {},
   "outputs": [
    {
     "name": "stdout",
     "output_type": "stream",
     "text": [
      "torch.Size([385, 936])\n",
      "torch.Size([385, 936])\n"
     ]
    }
   ],
   "source": [
    "# query_tensor = torch.from_numpy(query_matrix)\n",
    "# map_tensor = torch.from_numpy(map_matrix)\n",
    "\n",
    "# print(query_tensor.shape)\n",
    "# print(map_tensor.shape)\n",
    "\n",
    "# db_tensor = db_tensor.view(-1, 1, 120, 160)\n",
    "# q_tensor = q_tensor.view(-1, 1, 120, 160)\n",
    "\n",
    "# Pass the tensors through the model\n",
    "\n",
    "db_features = calc(db_tensor)\n",
    "q_features = calc(q_tensor)\n",
    "\n",
    "print(db_features.shape)\n",
    "print(q_features.shape)"
   ]
  },
  {
   "cell_type": "markdown",
   "metadata": {},
   "source": [
    "### Torch Compile"
   ]
  },
  {
   "cell_type": "code",
   "execution_count": 61,
   "metadata": {},
   "outputs": [
    {
     "name": "stderr",
     "output_type": "stream",
     "text": [
      "skipping cudagraphs due to skipping cudagraphs due to cpu device. Found from : \n",
      "   File \"/tmp/ipykernel_70348/641759170.py\", line 18, in forward\n",
      "    x = self.relu1(self.conv1(x))\n",
      "\n"
     ]
    },
    {
     "name": "stdout",
     "output_type": "stream",
     "text": [
      "torch.Size([385, 936])\n",
      "torch.Size([385, 936])\n"
     ]
    }
   ],
   "source": [
    "#idk why this is needed\n",
    "# import torch._dynamo\n",
    "# torch._dynamo.config.suppress_errors = True\n",
    "\n",
    "db_features_comp = calc_compile(db_tensor)\n",
    "q_features_comp = calc_compile(q_tensor)\n",
    "\n",
    "print(db_features_comp.shape)\n",
    "print(q_features_comp.shape)"
   ]
  },
  {
   "cell_type": "markdown",
   "metadata": {},
   "source": [
    "### ONNX Model"
   ]
  },
  {
   "cell_type": "code",
   "execution_count": 62,
   "metadata": {},
   "outputs": [],
   "source": [
    "# Check if model is a valid ONNX model\n",
    "onnx_model = onnx.load(\"calc_model.onnx\")\n",
    "onnx.checker.check_model(onnx_model)"
   ]
  },
  {
   "cell_type": "code",
   "execution_count": 63,
   "metadata": {},
   "outputs": [],
   "source": [
    "# Convert the tensors to numpy arrays\n",
    "db_matrix = db_tensor.detach().cpu().numpy()\n",
    "q_matrix = q_tensor.detach().cpu().numpy()\n",
    "\n",
    "# ort_session = onnxruntime.InferenceSession(\"calc_model.onnx\")"
   ]
  },
  {
   "cell_type": "code",
   "execution_count": 64,
   "metadata": {},
   "outputs": [
    {
     "name": "stdout",
     "output_type": "stream",
     "text": [
      "(1, 385, 936)\n",
      "(1, 385, 936)\n"
     ]
    }
   ],
   "source": [
    "# Get the input name from the model\n",
    "input_name = ort_session.get_inputs()[0].name\n",
    "\n",
    "# Ensure the inputs are numpy arrays\n",
    "db_matrix = np.array(db_matrix)\n",
    "q_matrix = np.array(q_matrix)\n",
    "\n",
    "## Database images\n",
    "\n",
    "# Create the input dictionary\n",
    "ort_db_input = {input_name: db_matrix}\n",
    "\n",
    "# Run the model\n",
    "ort_db_output = ort_session.run(None, ort_db_input)\n",
    "\n",
    "# Convert the output to a numpy array and print its shape\n",
    "ort_db_output = np.array(ort_db_output)\n",
    "print(ort_db_output.shape)\n",
    "\n",
    "## Query images\n",
    "\n",
    "# Create the input dictionary\n",
    "ort_q_input = {input_name: q_matrix}\n",
    "\n",
    "# Run the model\n",
    "ort_q_output = ort_session.run(None, ort_q_input)\n",
    "\n",
    "# Convert the output to a numpy array and print its shape\n",
    "ort_q_output = np.array(ort_q_output)\n",
    "print(ort_q_output.shape)"
   ]
  },
  {
   "cell_type": "code",
   "execution_count": 65,
   "metadata": {},
   "outputs": [
    {
     "name": "stdout",
     "output_type": "stream",
     "text": [
      "(385, 936)\n",
      "(385, 936)\n"
     ]
    }
   ],
   "source": [
    "ort_db_output = np.squeeze(ort_db_output)\n",
    "print(ort_db_output.shape)\n",
    "ort_q_output = np.squeeze(ort_q_output)\n",
    "print(ort_q_output.shape)"
   ]
  },
  {
   "cell_type": "markdown",
   "metadata": {},
   "source": [
    "### Dynamic Quantized Model (ONNX)"
   ]
  },
  {
   "cell_type": "code",
   "execution_count": 66,
   "metadata": {},
   "outputs": [],
   "source": [
    "# Check if model is a valid ONNX model\n",
    "onnx_model_quant_dynamic = onnx.load(\"calc_model_quant_dynamic.onnx\")\n",
    "onnx.checker.check_model(onnx_model_quant_dynamic)"
   ]
  },
  {
   "cell_type": "code",
   "execution_count": 67,
   "metadata": {},
   "outputs": [],
   "source": [
    "ort_session_quant_dynamic = onnxruntime.InferenceSession(\"calc_model_quant_dynamic.onnx\")"
   ]
  },
  {
   "cell_type": "code",
   "execution_count": 68,
   "metadata": {},
   "outputs": [
    {
     "name": "stdout",
     "output_type": "stream",
     "text": [
      "(1, 385, 936)\n",
      "(1, 385, 936)\n"
     ]
    }
   ],
   "source": [
    "# Get the input name from the model\n",
    "input_name_quant_dynamic = ort_session_quant_dynamic.get_inputs()[0].name\n",
    "\n",
    "# Ensure the inputs are numpy arrays\n",
    "db_matrix = np.array(db_matrix)\n",
    "q_matrix = np.array(q_matrix)\n",
    "\n",
    "## Database images\n",
    "\n",
    "# Create the input dictionary\n",
    "ort_db_input_quant_dynamic = {input_name: db_matrix}\n",
    "\n",
    "# Run the model\n",
    "ort_db_output_quant_dynamic = ort_session_quant_dynamic.run(None, ort_db_input_quant_dynamic)\n",
    "\n",
    "# Convert the output to a numpy array and print its shape\n",
    "ort_db_output_quant_dynamic = np.array(ort_db_output_quant_dynamic)\n",
    "print(ort_db_output_quant_dynamic.shape)\n",
    "\n",
    "## Query images\n",
    "\n",
    "# Create the input dictionary\n",
    "ort_q_input_quant_dynamic = {input_name: q_matrix}\n",
    "\n",
    "# Run the model\n",
    "ort_q_output_quant_dynamic = ort_session_quant_dynamic.run(None, ort_q_input_quant_dynamic)\n",
    "\n",
    "# Convert the output to a numpy array and print its shape\n",
    "ort_q_output_quant_dynamic = np.array(ort_q_output_quant_dynamic)\n",
    "print(ort_q_output_quant_dynamic.shape)"
   ]
  },
  {
   "cell_type": "markdown",
   "metadata": {},
   "source": [
    "### Static Quantized Model (ONNX)"
   ]
  },
  {
   "cell_type": "code",
   "execution_count": 69,
   "metadata": {},
   "outputs": [],
   "source": [
    "# Check if model is a valid ONNX model\n",
    "onnx_model_quant_static = onnx.load(\"calc_model_quant_static.onnx\")\n",
    "onnx.checker.check_model(onnx_model_quant_static)"
   ]
  },
  {
   "cell_type": "code",
   "execution_count": 70,
   "metadata": {},
   "outputs": [],
   "source": [
    "ort_session_quant_static = onnxruntime.InferenceSession(\"calc_model_quant_static.onnx\")"
   ]
  },
  {
   "cell_type": "code",
   "execution_count": 71,
   "metadata": {},
   "outputs": [
    {
     "name": "stdout",
     "output_type": "stream",
     "text": [
      "(1, 385, 936)\n",
      "(1, 385, 936)\n"
     ]
    }
   ],
   "source": [
    "# Get the input name from the model\n",
    "input_name_quant_static = ort_session_quant_static.get_inputs()[0].name\n",
    "\n",
    "# Ensure the inputs are numpy arrays\n",
    "db_matrix = np.array(db_matrix)\n",
    "q_matrix = np.array(q_matrix)\n",
    "\n",
    "## Database images\n",
    "\n",
    "# Create the input dictionary\n",
    "ort_db_input_quant_static = {input_name: db_matrix}\n",
    "\n",
    "# Run the model\n",
    "ort_db_output_quant_static = ort_session_quant_static.run(None, ort_db_input_quant_static)\n",
    "\n",
    "# Convert the output to a numpy array and print its shape\n",
    "ort_db_output_quant_static = np.array(ort_db_output_quant_static)\n",
    "print(ort_db_output_quant_static.shape)\n",
    "\n",
    "## Query images\n",
    "\n",
    "# Create the input dictionary\n",
    "ort_q_input_quant_static = {input_name: q_matrix}\n",
    "\n",
    "# Run the model\n",
    "ort_q_output_quant_static = ort_session_quant_static.run(None, ort_q_input_quant_static)\n",
    "\n",
    "# Convert the output to a numpy array and print its shape\n",
    "ort_q_output_quant_static = np.array(ort_q_output_quant_static)\n",
    "print(ort_q_output_quant_static.shape)"
   ]
  },
  {
   "cell_type": "markdown",
   "metadata": {},
   "source": [
    "### CUDA Model"
   ]
  },
  {
   "cell_type": "code",
   "execution_count": 72,
   "metadata": {},
   "outputs": [
    {
     "name": "stdout",
     "output_type": "stream",
     "text": [
      "torch.Size([385, 936])\n",
      "torch.Size([385, 936])\n"
     ]
    }
   ],
   "source": [
    "# Pass the tensors through the model\n",
    "\n",
    "db_features_cuda = calc_cuda(db_tensor.half().cuda())\n",
    "q_features_cuda = calc_cuda(q_tensor.half().cuda())\n",
    "\n",
    "db_features_cuda = db_features_cuda.detach().cpu()\n",
    "q_features_cuda = q_features_cuda.detach().cpu()\n",
    "\n",
    "print(db_features_cuda.shape)\n",
    "print(q_features_cuda.shape)"
   ]
  },
  {
   "cell_type": "markdown",
   "metadata": {},
   "source": [
    "# Average Time"
   ]
  },
  {
   "cell_type": "markdown",
   "metadata": {},
   "source": [
    "### Normal Model"
   ]
  },
  {
   "cell_type": "code",
   "execution_count": 73,
   "metadata": {},
   "outputs": [
    {
     "name": "stdout",
     "output_type": "stream",
     "text": [
      "Time taken: 48.63753652572632 seconds\n",
      "Average time taken: 0.48637536525726316 seconds\n",
      "Time taken: 46.152939796447754 seconds\n",
      "Average time taken: 0.46152939796447756 seconds\n"
     ]
    }
   ],
   "source": [
    "# Average time for database tensor\n",
    "\n",
    "start_time = time.time()\n",
    "\n",
    "for _ in range(ITERATIONS):\n",
    "    output = calc(db_tensor)\n",
    "\n",
    "end_time = time.time()\n",
    "\n",
    "db_time = end_time - start_time\n",
    "db_avg_time = db_time / ITERATIONS\n",
    "\n",
    "print(f\"Time taken: {db_time} seconds\")\n",
    "print(f\"Average time taken: {db_avg_time} seconds\")\n",
    "\n",
    "# Average time for map tensor\n",
    "\n",
    "start_time = time.time()\n",
    "\n",
    "for _ in range(ITERATIONS):\n",
    "    with torch.no_grad():\n",
    "        output = calc(q_tensor)\n",
    "\n",
    "end_time = time.time()\n",
    "\n",
    "q_time = end_time - start_time\n",
    "q_avg_time = q_time / ITERATIONS\n",
    "\n",
    "print(f\"Time taken: {q_time} seconds\")\n",
    "print(f\"Average time taken: {q_avg_time} seconds\")"
   ]
  },
  {
   "cell_type": "markdown",
   "metadata": {},
   "source": [
    "### Torch Compile"
   ]
  },
  {
   "cell_type": "code",
   "execution_count": 74,
   "metadata": {},
   "outputs": [
    {
     "name": "stdout",
     "output_type": "stream",
     "text": [
      "Time taken: 36.191163301467896 seconds\n",
      "Average time taken: 0.36191163301467894 seconds\n"
     ]
    },
    {
     "name": "stderr",
     "output_type": "stream",
     "text": [
      "skipping cudagraphs due to skipping cudagraphs due to cpu device. Found from : \n",
      "   File \"/tmp/ipykernel_70348/641759170.py\", line 18, in forward\n",
      "    x = self.relu1(self.conv1(x))\n",
      "\n"
     ]
    },
    {
     "name": "stdout",
     "output_type": "stream",
     "text": [
      "Time taken: 28.220376014709473 seconds\n",
      "Average time taken: 0.28220376014709475 seconds\n"
     ]
    }
   ],
   "source": [
    "# Average time for database tensor\n",
    "\n",
    "start_time = time.time()\n",
    "\n",
    "for _ in range(ITERATIONS):\n",
    "    output = calc_compile(db_tensor)\n",
    "\n",
    "end_time = time.time()\n",
    "\n",
    "db_time = end_time - start_time\n",
    "db_avg_time = db_time / ITERATIONS\n",
    "\n",
    "print(f\"Time taken: {db_time} seconds\")\n",
    "print(f\"Average time taken: {db_avg_time} seconds\")\n",
    "\n",
    "# Average time for map tensor\n",
    "\n",
    "start_time = time.time()\n",
    "\n",
    "for _ in range(ITERATIONS):\n",
    "    with torch.no_grad():\n",
    "        output = calc_compile(q_tensor)\n",
    "\n",
    "end_time = time.time()\n",
    "\n",
    "q_time = end_time - start_time\n",
    "q_avg_time = q_time / ITERATIONS\n",
    "\n",
    "print(f\"Time taken: {q_time} seconds\")\n",
    "print(f\"Average time taken: {q_avg_time} seconds\")"
   ]
  },
  {
   "cell_type": "markdown",
   "metadata": {},
   "source": [
    "### ONNX Model"
   ]
  },
  {
   "cell_type": "code",
   "execution_count": 75,
   "metadata": {},
   "outputs": [
    {
     "name": "stdout",
     "output_type": "stream",
     "text": [
      "Time taken: 20.546537399291992 seconds\n",
      "Average time taken: 0.20546537399291992 seconds\n",
      "Time taken: 20.47860360145569 seconds\n",
      "Average time taken: 0.2047860360145569 seconds\n"
     ]
    }
   ],
   "source": [
    "# Average time for database tensor\n",
    "\n",
    "input_name = ort_session.get_inputs()[0].name\n",
    "ort_inputs = {input_name: db_matrix}\n",
    "\n",
    "start_time = time.time()\n",
    "\n",
    "for _ in range(ITERATIONS):\n",
    "    ort_outs = ort_session.run(None, ort_inputs)\n",
    "\n",
    "end_time = time.time()\n",
    "\n",
    "db_time_onnx = end_time - start_time\n",
    "db_avg_time_onnx = db_time_onnx / ITERATIONS\n",
    "\n",
    "print(f\"Time taken: {db_time_onnx} seconds\")\n",
    "print(f\"Average time taken: {db_avg_time_onnx} seconds\")\n",
    "\n",
    "# Average time for query tensor\n",
    "\n",
    "input_name = ort_session.get_inputs()[0].name\n",
    "ort_inputs = {input_name: q_matrix}\n",
    "\n",
    "start_time = time.time()\n",
    "\n",
    "for _ in range(ITERATIONS):\n",
    "    ort_outs = ort_session.run(None, ort_inputs)\n",
    "\n",
    "end_time = time.time()\n",
    "\n",
    "q_time_onnx = end_time - start_time\n",
    "q_avg_time_onnx = q_time_onnx / ITERATIONS\n",
    "\n",
    "print(f\"Time taken: {q_time_onnx} seconds\")\n",
    "print(f\"Average time taken: {q_avg_time_onnx} seconds\")"
   ]
  },
  {
   "cell_type": "markdown",
   "metadata": {},
   "source": [
    "### Dynamic Quantized Model (ONNX)\n",
    "Bad Results?"
   ]
  },
  {
   "cell_type": "code",
   "execution_count": 76,
   "metadata": {},
   "outputs": [
    {
     "name": "stdout",
     "output_type": "stream",
     "text": [
      "Time taken: 38.906824827194214 seconds\n",
      "Average time taken: 0.38906824827194214 seconds\n",
      "Time taken: 38.87888169288635 seconds\n",
      "Average time taken: 0.3887888169288635 seconds\n"
     ]
    }
   ],
   "source": [
    "# Average time for database tensor\n",
    "\n",
    "input_name_quant_dynamic = ort_session_quant_dynamic.get_inputs()[0].name\n",
    "ort_inputs_quant_dynamic = {input_name_quant_dynamic: db_matrix}\n",
    "\n",
    "start_time = time.time()\n",
    "\n",
    "for _ in range(ITERATIONS):\n",
    "    ort_outs_quant_dynamic = ort_session_quant_dynamic.run(None, ort_inputs_quant_dynamic)\n",
    "\n",
    "end_time = time.time()\n",
    "\n",
    "db_time_onnx_quant_dynamic = end_time - start_time\n",
    "db_avg_time_onnx_quant_dynamic = db_time_onnx_quant_dynamic / ITERATIONS\n",
    "\n",
    "print(f\"Time taken: {db_time_onnx_quant_dynamic} seconds\")\n",
    "print(f\"Average time taken: {db_avg_time_onnx_quant_dynamic} seconds\")\n",
    "\n",
    "# Average time for query tensor\n",
    "\n",
    "input_name_quant_dynamic = ort_session_quant_dynamic.get_inputs()[0].name\n",
    "ort_inputs_quant_dynamic = {input_name_quant_dynamic: q_matrix}\n",
    "\n",
    "start_time = time.time()\n",
    "\n",
    "for _ in range(ITERATIONS):\n",
    "    ort_outs_quant_dynamic = ort_session_quant_dynamic.run(None, ort_inputs)\n",
    "\n",
    "end_time = time.time()\n",
    "\n",
    "q_time_onnx_quant_dynamic = end_time - start_time\n",
    "q_avg_time_onnx_quant_dynamic = q_time_onnx_quant_dynamic / ITERATIONS\n",
    "\n",
    "print(f\"Time taken: {q_time_onnx_quant_dynamic} seconds\")\n",
    "print(f\"Average time taken: {q_avg_time_onnx_quant_dynamic} seconds\")"
   ]
  },
  {
   "cell_type": "markdown",
   "metadata": {},
   "source": [
    "### Static Quantized Model"
   ]
  },
  {
   "cell_type": "code",
   "execution_count": 77,
   "metadata": {},
   "outputs": [
    {
     "name": "stdout",
     "output_type": "stream",
     "text": [
      "Time taken: 38.28216791152954 seconds\n",
      "Average time taken: 0.3828216791152954 seconds\n",
      "Time taken: 38.68071484565735 seconds\n",
      "Average time taken: 0.3868071484565735 seconds\n"
     ]
    }
   ],
   "source": [
    "# Average time for database tensor\n",
    "\n",
    "input_name_quant_static = ort_session_quant_static.get_inputs()[0].name\n",
    "ort_inputs_quant_static = {input_name_quant_static: db_matrix}\n",
    "\n",
    "start_time = time.time()\n",
    "\n",
    "for _ in range(ITERATIONS):\n",
    "    ort_outs_quant_static = ort_session_quant_static.run(None, ort_inputs_quant_static)\n",
    "\n",
    "end_time = time.time()\n",
    "\n",
    "db_time_onnx_quant_static = end_time - start_time\n",
    "db_avg_time_onnx_quant_static = db_time_onnx_quant_static / ITERATIONS\n",
    "\n",
    "print(f\"Time taken: {db_time_onnx_quant_static} seconds\")\n",
    "print(f\"Average time taken: {db_avg_time_onnx_quant_static} seconds\")\n",
    "\n",
    "# Average time for query tensor\n",
    "\n",
    "input_name_quant_static = ort_session_quant_static.get_inputs()[0].name\n",
    "ort_inputs_quant_static = {input_name_quant_static: q_matrix}\n",
    "\n",
    "start_time = time.time()\n",
    "\n",
    "for _ in range(ITERATIONS):\n",
    "    ort_outs_quant_static = ort_session_quant_static.run(None, ort_inputs)\n",
    "\n",
    "end_time = time.time()\n",
    "\n",
    "q_time_onnx_quant_static = end_time - start_time\n",
    "q_avg_time_onnx_quant_static = q_time_onnx_quant_static / ITERATIONS\n",
    "\n",
    "print(f\"Time taken: {q_time_onnx_quant_static} seconds\")\n",
    "print(f\"Average time taken: {q_avg_time_onnx_quant_static} seconds\")"
   ]
  },
  {
   "cell_type": "markdown",
   "metadata": {},
   "source": [
    "### CUDA Model"
   ]
  },
  {
   "cell_type": "code",
   "execution_count": 78,
   "metadata": {},
   "outputs": [
    {
     "name": "stdout",
     "output_type": "stream",
     "text": [
      "Time taken: 2.8009355068206787 seconds\n",
      "Average time taken: 0.028009355068206787 seconds\n",
      "Time taken: 2.8182475566864014 seconds\n",
      "Average time taken: 0.028182475566864013 seconds\n"
     ]
    }
   ],
   "source": [
    "start_time = time.time()\n",
    "\n",
    "# Average time for database tensor\n",
    "\n",
    "for _ in range(ITERATIONS):\n",
    "    output = calc_cuda(db_tensor.half().cuda())\n",
    "\n",
    "end_time = time.time()\n",
    "\n",
    "db_time_cuda = end_time - start_time\n",
    "db_avg_time_cuda = db_time_cuda / ITERATIONS\n",
    "\n",
    "print(f\"Time taken: {db_time_cuda} seconds\")\n",
    "print(f\"Average time taken: {db_avg_time_cuda} seconds\")\n",
    "\n",
    "# Average time for query tensor\n",
    "\n",
    "start_time = time.time()\n",
    "\n",
    "for _ in range(ITERATIONS):\n",
    "    output = calc_cuda(q_tensor.half().cuda())\n",
    "\n",
    "end_time = time.time()\n",
    "\n",
    "q_time_cuda = end_time - start_time\n",
    "q_avg_time_cuda = q_time_cuda / ITERATIONS\n",
    "\n",
    "print(f\"Time taken: {q_time_cuda} seconds\")\n",
    "print(f\"Average time taken: {q_avg_time_cuda} seconds\")"
   ]
  },
  {
   "cell_type": "markdown",
   "metadata": {},
   "source": [
    "# Evaluation"
   ]
  },
  {
   "cell_type": "code",
   "execution_count": 79,
   "metadata": {},
   "outputs": [
    {
     "data": {
      "image/png": "[encoded data removed]",
      "text/plain": [
       "<Figure size 600x300 with 1 Axes>"
      ]
     },
     "metadata": {},
     "output_type": "display_data"
    },
    {
     "data": {
      "image/png": "[encoded data removed]",
      "text/plain": [
       "<Figure size 600x300 with 1 Axes>"
      ]
     },
     "metadata": {},
     "output_type": "display_data"
    }
   ],
   "source": [
    "import matplotlib.pyplot as plt\n",
    "\n",
    "# Variables\n",
    "models = ['Normal', 'ONNX', 'CUDA', 'Dynamic\\n Quantization\\n (ONNX)', 'Static\\n Quantization\\n (ONNX)']\n",
    "durations = [db_time, db_time_onnx, db_time_cuda, db_time_onnx_quant_dynamic, db_time_onnx_quant_static]\n",
    "avg_durations = [db_avg_time, db_avg_time_onnx, db_avg_time_cuda, db_avg_time_onnx_quant_dynamic, db_avg_time_onnx_quant_static]\n",
    "\n",
    "# Plot duration bar chart\n",
    "plt.figure(figsize=(6, 3))\n",
    "plt.bar(models, durations)\n",
    "plt.title('Duration')\n",
    "plt.ylabel('Duration')\n",
    "plt.show()\n",
    "\n",
    "# Plot average duration bar chart\n",
    "plt.figure(figsize=(6, 3))\n",
    "plt.bar(models, avg_durations)\n",
    "plt.title('Average Duration')\n",
    "plt.ylabel('Average Duration')\n",
    "plt.show()"
   ]
  },
  {
   "cell_type": "code",
   "execution_count": 80,
   "metadata": {},
   "outputs": [],
   "source": [
    "# precision-recall curve\n",
    "# P, R = createPR(similarity_matrix, GThard, GTsoft, matching='multi', n_thresh=100)\n",
    "# plt.figure()\n",
    "# plt.plot(R, P)\n",
    "# plt.xlim(0, 1), plt.ylim(0, 1.01)\n",
    "# plt.xlabel('Recall')\n",
    "# plt.ylabel('Precision')\n",
    "# plt.title('Result on GardensPoint day_right--night_right')\n",
    "# plt.grid('on')\n",
    "# plt.draw()\n",
    "# plt.show()"
   ]
  }
 ],
 "metadata": {
  "kernelspec": {
   "display_name": "vprtutorial",
   "language": "python",
   "name": "python3"
  },
  "language_info": {
   "codemirror_mode": {
    "name": "ipython",
    "version": 3
   },
   "file_extension": ".py",
   "mimetype": "text/x-python",
   "name": "python",
   "nbconvert_exporter": "python",
   "pygments_lexer": "ipython3",
   "version": "3.11.8"
  }
 },
 "nbformat": 4,
 "nbformat_minor": 2
}
